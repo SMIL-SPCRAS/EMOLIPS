{
 "cells": [
  {
   "cell_type": "code",
   "execution_count": 1,
   "metadata": {},
   "outputs": [],
   "source": [
    "import tensorflow as tf\n",
    "physical_devices = tf.config.list_physical_devices('GPU')\n",
    "tf.config.experimental.set_memory_growth(physical_devices[0], True)\n",
    "\n",
    "from utils import three_d_resnet_bi_lstm\n",
    "from utils import datagenerator\n",
    "from utils import metric\n",
    "from utils import sequence_modeling\n",
    "from utils import datasplit\n",
    "\n",
    "import glob"
   ]
  },
  {
   "cell_type": "code",
   "execution_count": 2,
   "metadata": {},
   "outputs": [],
   "source": [
    "# to specify a path to demographics data of the speakers of the CREMA-D corpus\n",
    "id_phrases, id_sp_train, id_sp_valid, id_sp_test = datasplit.get_id_sp('VideoDemographics.csv')"
   ]
  },
  {
   "cell_type": "code",
   "execution_count": 3,
   "metadata": {},
   "outputs": [
    {
     "name": "stderr",
     "output_type": "stream",
     "text": [
      "100%|███████████████████████████████████████████████████████████████████████████████| 879/879 [00:03<00:00, 278.37it/s]\n",
      "100%|███████████████████████████████████████████████████████████████████████████████| 737/737 [00:02<00:00, 308.20it/s]\n",
      "100%|█████████████████████████████████████████████████████████████████████████████| 1558/1558 [00:08<00:00, 181.90it/s]\n"
     ]
    }
   ],
   "source": [
    "len_seq = 60 # sequence length\n",
    "size = 88 # size image\n",
    "chan = 3 # number of image channel\n",
    "pad = True # to use padding\n",
    "bs = 4 # bach size\n",
    "n_cl = 12 # number of classes\n",
    "emo = 'FEA' # emotion choice\n",
    "name_model = '3D'\n",
    "\n",
    "path_metadata = 'D:/Databases/CREMA-D lips reading/'\n",
    "\n",
    "p_im_all = glob.glob(path_metadata + 'images/*/*.jpg')\n",
    "df_all_path = sequence_modeling.get_data(p_im_all, id_phrases)\n",
    "df_train_em = df_all_path[(df_all_path.id_speaker.isin(id_sp_train))&(df_all_path.emotion==emo)]\n",
    "p_train, n_train, phr_train, l_train = sequence_modeling.get_sequence(df_train_em, len_seq=len_seq, c_fr=False)\n",
    "p_val, n_val, phr_val, l_val = sequence_modeling.get_sequence(df_all_path[df_all_path.id_speaker.isin(id_sp_valid)], len_seq=len_seq, c_fr=False)\n",
    "p_test, n_test, phr_test, l_test = sequence_modeling.get_sequence(df_all_path[df_all_path.id_speaker.isin(id_sp_test)], len_seq=len_seq, c_fr=False)"
   ]
  },
  {
   "cell_type": "code",
   "execution_count": 4,
   "metadata": {},
   "outputs": [
    {
     "name": "stdout",
     "output_type": "stream",
     "text": [
      "models/2022-10-26_18-14-45_3d_lstm_ls_60_size_88_chan_3_pad_True_emo_FEA_bs_4_lr_0001_eps_10\n",
      "Epoch 1/10\n",
      "263/263 [==============================] - 179s 639ms/step - loss: 4.4434 - accuracy: 0.1678\n"
     ]
    },
    {
     "name": "stderr",
     "output_type": "stream",
     "text": [
      "100%|████████████████████████████████████████████████████████████████████████████████| 228/228 [23:07<00:00,  6.08s/it]\n",
      "100%|████████████████████████████████████████████████████████████████████████████████| 467/467 [47:10<00:00,  6.06s/it]\n"
     ]
    },
    {
     "name": "stdout",
     "output_type": "stream",
     "text": [
      "Recall improved from 0 to 0.08333333333333333\n",
      "max_val_recall 0.08333333333333333\n",
      "\n",
      "current_val_recall 0.08333333333333333\n",
      "\n",
      "Epoch 2/10\n",
      "263/263 [==============================] - 188s 708ms/step - loss: 3.3423 - accuracy: 0.2187\n"
     ]
    },
    {
     "name": "stderr",
     "output_type": "stream",
     "text": [
      "100%|████████████████████████████████████████████████████████████████████████████████| 228/228 [20:55<00:00,  5.51s/it]\n",
      "100%|████████████████████████████████████████████████████████████████████████████████| 467/467 [41:50<00:00,  5.38s/it]\n"
     ]
    },
    {
     "name": "stdout",
     "output_type": "stream",
     "text": [
      "Recall improved from 0.08333333333333333 to 0.11795364546936875\n",
      "max_val_recall 0.11795364546936875\n",
      "\n",
      "current_val_recall 0.11795364546936875\n",
      "\n",
      "Epoch 3/10\n",
      "263/263 [==============================] - 168s 635ms/step - loss: 2.6432 - accuracy: 0.3006\n"
     ]
    },
    {
     "name": "stderr",
     "output_type": "stream",
     "text": [
      "100%|████████████████████████████████████████████████████████████████████████████████| 228/228 [20:06<00:00,  5.29s/it]\n",
      "100%|████████████████████████████████████████████████████████████████████████████████| 467/467 [41:03<00:00,  5.28s/it]\n"
     ]
    },
    {
     "name": "stdout",
     "output_type": "stream",
     "text": [
      "Recall improved from 0.11795364546936875 to 0.21758895294665734\n",
      "max_val_recall 0.21758895294665734\n",
      "\n",
      "current_val_recall 0.21758895294665734\n",
      "\n",
      "Epoch 4/10\n",
      "263/263 [==============================] - 168s 635ms/step - loss: 2.1117 - accuracy: 0.3999\n"
     ]
    },
    {
     "name": "stderr",
     "output_type": "stream",
     "text": [
      "100%|████████████████████████████████████████████████████████████████████████████████| 228/228 [20:29<00:00,  5.39s/it]\n",
      "100%|████████████████████████████████████████████████████████████████████████████████| 467/467 [42:23<00:00,  5.45s/it]\n"
     ]
    },
    {
     "name": "stdout",
     "output_type": "stream",
     "text": [
      "Recall improved from 0.21758895294665734 to 0.22487104454478668\n",
      "max_val_recall 0.22487104454478668\n",
      "\n",
      "current_val_recall 0.22487104454478668\n",
      "\n",
      "Epoch 5/10\n",
      "263/263 [==============================] - 169s 638ms/step - loss: 1.6934 - accuracy: 0.4868\n"
     ]
    },
    {
     "name": "stderr",
     "output_type": "stream",
     "text": [
      "100%|████████████████████████████████████████████████████████████████████████████████| 228/228 [20:09<00:00,  5.31s/it]\n",
      "100%|████████████████████████████████████████████████████████████████████████████████| 467/467 [40:39<00:00,  5.22s/it]\n"
     ]
    },
    {
     "name": "stdout",
     "output_type": "stream",
     "text": [
      "Recall improved from 0.22487104454478668 to 0.36360846816821657\n",
      "max_val_recall 0.36360846816821657\n",
      "\n",
      "current_val_recall 0.36360846816821657\n",
      "\n",
      "Epoch 6/10\n",
      "263/263 [==============================] - 160s 602ms/step - loss: 1.3050 - accuracy: 0.6079\n"
     ]
    },
    {
     "name": "stderr",
     "output_type": "stream",
     "text": [
      "100%|████████████████████████████████████████████████████████████████████████████████| 228/228 [20:43<00:00,  5.46s/it]\n",
      "100%|████████████████████████████████████████████████████████████████████████████████| 467/467 [42:15<00:00,  5.43s/it]\n"
     ]
    },
    {
     "name": "stdout",
     "output_type": "stream",
     "text": [
      "Recall improved from 0.36360846816821657 to 0.44383970327366545\n",
      "max_val_recall 0.44383970327366545\n",
      "\n",
      "current_val_recall 0.44383970327366545\n",
      "\n",
      "Epoch 7/10\n",
      "263/263 [==============================] - 168s 635ms/step - loss: 1.0859 - accuracy: 0.6623\n"
     ]
    },
    {
     "name": "stderr",
     "output_type": "stream",
     "text": [
      "100%|████████████████████████████████████████████████████████████████████████████████| 228/228 [20:10<00:00,  5.31s/it]\n",
      "100%|████████████████████████████████████████████████████████████████████████████████| 467/467 [41:00<00:00,  5.27s/it]\n"
     ]
    },
    {
     "name": "stdout",
     "output_type": "stream",
     "text": [
      "Recall improved from 0.44383970327366545 to 0.5011719659911483\n",
      "max_val_recall 0.5011719659911483\n",
      "\n",
      "current_val_recall 0.5011719659911483\n",
      "\n",
      "Epoch 8/10\n",
      "263/263 [==============================] - 171s 646ms/step - loss: 0.8701 - accuracy: 0.7294\n"
     ]
    },
    {
     "name": "stderr",
     "output_type": "stream",
     "text": [
      "100%|████████████████████████████████████████████████████████████████████████████████| 228/228 [21:03<00:00,  5.54s/it]\n",
      "100%|████████████████████████████████████████████████████████████████████████████████| 467/467 [42:05<00:00,  5.41s/it]\n"
     ]
    },
    {
     "name": "stdout",
     "output_type": "stream",
     "text": [
      "Recall did not improve.\n",
      "max_val_recall 0.5011719659911483\n",
      "\n",
      "current_val_recall 0.4752557271228655\n",
      "\n",
      "Epoch 9/10\n",
      "263/263 [==============================] - 168s 635ms/step - loss: 0.7311 - accuracy: 0.7621\n"
     ]
    },
    {
     "name": "stderr",
     "output_type": "stream",
     "text": [
      "100%|████████████████████████████████████████████████████████████████████████████████| 228/228 [20:09<00:00,  5.31s/it]\n",
      "100%|████████████████████████████████████████████████████████████████████████████████| 467/467 [41:58<00:00,  5.39s/it]\n"
     ]
    },
    {
     "name": "stdout",
     "output_type": "stream",
     "text": [
      "Recall improved from 0.5011719659911483 to 0.5227351883208803\n",
      "max_val_recall 0.5227351883208803\n",
      "\n",
      "current_val_recall 0.5227351883208803\n",
      "\n",
      "Epoch 10/10\n",
      "263/263 [==============================] - 170s 644ms/step - loss: 0.6254 - accuracy: 0.7912\n"
     ]
    },
    {
     "name": "stderr",
     "output_type": "stream",
     "text": [
      "100%|████████████████████████████████████████████████████████████████████████████████| 228/228 [21:05<00:00,  5.55s/it]\n",
      "100%|████████████████████████████████████████████████████████████████████████████████| 467/467 [44:23<00:00,  5.70s/it]"
     ]
    },
    {
     "name": "stdout",
     "output_type": "stream",
     "text": [
      "Recall did not improve.\n",
      "max_val_recall 0.5227351883208803\n",
      "\n",
      "current_val_recall 0.3600589734630615\n",
      "\n"
     ]
    },
    {
     "name": "stderr",
     "output_type": "stream",
     "text": [
      "\n"
     ]
    },
    {
     "data": {
      "text/plain": [
       "<tensorflow.python.keras.callbacks.History at 0x1abca32cd60>"
      ]
     },
     "execution_count": 4,
     "metadata": {},
     "output_type": "execute_result"
    }
   ],
   "source": [
    "train_generator = datagenerator.DataGeneratorTrain(p_train, l_train, shape = (size, size), bs=10, shuffle=True, p_a=0, chan=chan, pad=pad)\n",
    "valid_generator = datagenerator.DataGeneratorTest(p_val, l_val, n_val, shape = (size, size), bs=10, shuffle=False, chan=chan, pad=pad)\n",
    "test_generator = datagenerator.DataGeneratorTest(p_test, l_test, n_test, shape = (size, size), bs=10, shuffle=False, chan=chan, pad=pad)\n",
    "\n",
    "INIT_LR = 0.0001\n",
    "EPOCHS = 10\n",
    "\n",
    "name_app = '3d_lstm_ls_{}_size_{}_chan_{}_pad_{}_emo_{}_bs_{}_lr_{}_eps_{}'.format(len_seq, size, chan, pad, emo, bs, str(INIT_LR).split('.')[1], EPOCHS)\n",
    "\n",
    "opt = tf.keras.optimizers.Adam(learning_rate=INIT_LR)\n",
    "\n",
    "model = three_d_resnet_bi_lstm.build_three_d_resnet_18((len_seq, size, size, chan), n_cl, 'softmax', None,True, name_model)\n",
    "\n",
    "metrics = metric.Metrics(path_save_weight = 'models/', verbose=1, patience=5, name_app=name_app)\n",
    "\n",
    "callbacks = [\n",
    "             metrics,\n",
    "            ]\n",
    "\n",
    "model.valid_generator = valid_generator\n",
    "model.test_generator = test_generator\n",
    "\n",
    "model.compile(loss=\"categorical_crossentropy\", optimizer=opt, metrics=[\"accuracy\"])\n",
    "\n",
    "model.fit(\n",
    "    train_generator,\n",
    "    epochs = EPOCHS,\n",
    "    verbose = True,\n",
    "    shuffle = True, \n",
    "    callbacks = [callbacks],\n",
    "    workers=4,\n",
    "    )"
   ]
  }
 ],
 "metadata": {
  "kernelspec": {
   "display_name": "Python 3",
   "language": "python",
   "name": "python3"
  },
  "language_info": {
   "codemirror_mode": {
    "name": "ipython",
    "version": 3
   },
   "file_extension": ".py",
   "mimetype": "text/x-python",
   "name": "python",
   "nbconvert_exporter": "python",
   "pygments_lexer": "ipython3",
   "version": "3.8.10"
  }
 },
 "nbformat": 4,
 "nbformat_minor": 4
}
